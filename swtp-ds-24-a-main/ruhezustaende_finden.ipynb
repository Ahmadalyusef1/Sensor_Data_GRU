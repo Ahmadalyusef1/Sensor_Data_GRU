{
 "cells": [
  {
   "cell_type": "code",
   "id": "initial_id",
   "metadata": {
    "collapsed": true,
    "ExecuteTime": {
     "end_time": "2024-06-24T17:30:31.592574Z",
     "start_time": "2024-06-24T17:30:27.988053Z"
    }
   },
   "source": [
    "import pandas as pd\n",
    "\n",
    "# Daten aus den CSV-Dateien laden\n",
    "anomalie_daten = pd.read_csv('data/anomaly_data.csv')\n",
    "normal_daten = pd.read_csv('data/normal_data.csv')\n",
    "\n",
    "# Wertebereich definieren\n",
    "obergrenze = 0.5\n",
    "untergrenze = -0.5\n",
    "datenpunkte_block = 300\n",
    "prozent = (40 / 100) * datenpunkte_block\n",
    "print(prozent)\n",
    "# Blöcke für Anomalie-Daten identifizieren, die innerhalb des definierten Bereichs für jede 30 Punkte liegen\n",
    "for i in range(0, len(anomalie_daten), datenpunkte_block):\n",
    "    block = anomalie_daten.iloc[i:i+datenpunkte_block]\n",
    "    if block['ax'].between(untergrenze, obergrenze).sum() > prozent and \\\n",
    "       block['ay'].between(untergrenze, obergrenze).sum() > prozent and \\\n",
    "       block['az'].between(untergrenze, obergrenze).sum() > prozent:\n",
    "        anomalie_daten.loc[i:i+datenpunkte_block, 'label'] = 2\n",
    "        \n",
    "anomalie_daten.to_csv('data/anomalie_daten_mit_ruhezustaende.csv', index=False)\n",
    "\n",
    "# Blöcke für Normal-Daten identifizieren, die innerhalb des definierten Bereichs für jede 30 Punkte liegen\n",
    "for i in range(0, len(normal_daten), datenpunkte_block):\n",
    "    block = normal_daten.iloc[i:i+datenpunkte_block]\n",
    "    if block['ax'].between(untergrenze, obergrenze).sum() > prozent and \\\n",
    "       block['ay'].between(untergrenze, obergrenze).sum() > prozent and \\\n",
    "       block['az'].between(untergrenze, obergrenze).sum() > prozent:\n",
    "        normal_daten.loc[i:i+datenpunkte_block, 'label'] = 2\n",
    "\n",
    "normal_daten.to_csv('data/normal_daten_mit_ruhezustaende.csv', index=False)\n",
    "\n",
    "# Die aktualisierten Daten in einer neuen CSV-Datei speichern\n",
    "combined_daten = pd.concat([anomalie_daten, normal_daten])\n",
    "combined_daten.to_csv('data/combined_data_mit_ruhezustaende', index=False)\n"
   ],
   "outputs": [
    {
     "name": "stdout",
     "output_type": "stream",
     "text": [
      "120.0\n"
     ]
    }
   ],
   "execution_count": 1
  },
  {
   "metadata": {},
   "cell_type": "code",
   "outputs": [],
   "execution_count": null,
   "source": "",
   "id": "19dc0e6d17c7ef98"
  }
 ],
 "metadata": {
  "kernelspec": {
   "display_name": "Python 3",
   "language": "python",
   "name": "python3"
  },
  "language_info": {
   "codemirror_mode": {
    "name": "ipython",
    "version": 2
   },
   "file_extension": ".py",
   "mimetype": "text/x-python",
   "name": "python",
   "nbconvert_exporter": "python",
   "pygments_lexer": "ipython2",
   "version": "2.7.6"
  }
 },
 "nbformat": 4,
 "nbformat_minor": 5
}
