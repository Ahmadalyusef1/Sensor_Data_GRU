{
 "cells": [
  {
   "cell_type": "code",
   "id": "initial_id",
   "metadata": {
    "collapsed": true
   },
   "source": [
    "!pip install kafka-python\n"
   ],
   "outputs": [],
   "execution_count": null
  },
  {
   "cell_type": "code",
   "execution_count": null,
   "outputs": [],
   "source": [],
   "metadata": {
    "collapsed": false
   },
   "id": "10b286e19ef5f99d"
  },
  {
   "cell_type": "code",
   "execution_count": null,
   "outputs": [],
   "source": [
    "from kafka import KafkaConsumer\n",
    "import json\n",
    "decode = lambda x: json.loads(x.decode('utf-8'))\n",
    "consumer = KafkaConsumer(bootstrap_servers=\"slo.swe.th-luebeck.de:9092\",group_id= 'groupe_A', auto_offset_reset = \"latest\") #value_deserializer=decode)\n",
    "consumer.subscribe(topics = [\"quicktest\"])\n",
    "\n",
    "def read_message(consumer):\n",
    "    for message in consumer:\n",
    "        print('hallotesettese', message.value)\n",
    "\n",
    "read_message(consumer)\n",
    "for message in consumer.poll(max_records=3):\n",
    "    print('HI', message.value)\n"
   ],
   "metadata": {
    "collapsed": false
   },
   "id": "7c63e09de42d16ff"
  },
  {
   "cell_type": "code",
   "execution_count": null,
   "outputs": [],
   "source": [],
   "metadata": {
    "collapsed": false
   },
   "id": "1b2eeda38d6af814"
  },
  {
   "metadata": {
    "ExecuteTime": {
     "end_time": "2024-04-15T20:09:50.662308600Z",
     "start_time": "2024-04-15T20:09:50.381863400Z"
    }
   },
   "cell_type": "code",
   "source": [
    "#Zum Testen der Datenbankverbindung\n",
    "import psycopg2\n",
    "\n",
    "# Verbindung zu Datenbank herstellen\n",
    "conn = psycopg2.connect(\n",
    "    host=\"localhost\",\n",
    "    port=\"5432\",\n",
    "    database=\"swtp_a\",\n",
    "    user=\"postgres\",\n",
    "    password=\"12345\",\n",
    ")\n",
    "\n",
    "# Cursor erstellen\n",
    "cur = conn.cursor()\n",
    "\n",
    "# SQL-Befehl zum Einfügen von Daten vorbereiten\n",
    "insert_query = 'INSERT INTO \"Data\" (n, ax, ay, az, gx, gy, gz, timestamp) VALUES (%s, %s, %s, %s, %s, %s, %s, %s)'\n",
    "\n",
    "# Testdaten definieren\n",
    "test_data = {\n",
    "    \"n\": 928560,\n",
    "    \"accelerometer\": {\"x\": -0.015625, \"y\": -0.169678, \"z\": 1.044434},\n",
    "    \"gyroscope\": {\"x\": -2.251908, \"y\": -0.916031, \"z\": -0.389313},\n",
    "    \"timestamp\": 111\n",
    "}\n",
    "\n",
    "# Daten in die Datenbank einfügen\n",
    "cur.execute(insert_query, (\n",
    "    test_data['n'],\n",
    "    test_data['accelerometer']['x'], test_data['accelerometer']['y'], test_data['accelerometer']['z'],\n",
    "    test_data['gyroscope']['x'], test_data['gyroscope']['y'], test_data['gyroscope']['z'],\n",
    "    test_data['timestamp']\n",
    "))\n",
    "conn.commit()\n",
    "\n",
    "# Verbindung schließen\n",
    "cur.close()\n",
    "conn.close()\n"
   ],
   "id": "4ca031ca2d90e9a3",
   "outputs": [],
   "execution_count": 22
  },
  {
   "cell_type": "code",
   "execution_count": null,
   "outputs": [],
   "source": [
    "# Daten aus Kafka in die Datenbank einfügen\n",
    "import psycopg2\n",
    "import json\n",
    "from kafka import KafkaConsumer\n",
    "\n",
    "# Verbindung zu Datenbank herstellen\n",
    "conn = psycopg2.connect(\n",
    "    host=\"localhost\",\n",
    "    port=\"5432\",\n",
    "    database=\"swtp_a\",\n",
    "    user=\"postgres\",\n",
    "    password=\"12345\",\n",
    ")\n",
    "\n",
    "# Cursor erstellen\n",
    "cur = conn.cursor()\n",
    "\n",
    "# SQL-Befehl zum Einfügen von Daten vorbereiten\n",
    "insert_query = 'INSERT INTO \"Data\" (n, ax, ay, az, gx, gy, gz, timestamp) VALUES (%s, %s, %s, %s, %s, %s, %s, %s)'\n",
    "\n",
    "# Kafka Consumer erstellen\n",
    "consumer = KafkaConsumer(\n",
    "    bootstrap_servers=\"slo.swe.th-luebeck.de:9092\",\n",
    "    auto_offset_reset=\"earliest\"\n",
    ") \n",
    "consumer.subscribe(topics=[\"quicktest\"])\n",
    "\n",
    "for message in consumer:\n",
    "    data = json.loads(message.value)\n",
    "    \n",
    "    print(data)\n",
    "    # Daten in die Datenbank einfügen\n",
    "    if 'timestamp' in data:\n",
    "        print('Daten gefunden, füge sie in die DB ein')\n",
    "        print(data)\n",
    "        cur.execute(insert_query, (\n",
    "            data['n'],\n",
    "            data['ax'], data['ay'], data['az'],\n",
    "            data['gx'], data['gy'], data['gz'],\n",
    "            data['timestamp']\n",
    "        ))\n",
    "        conn.commit()\n",
    "\n",
    "# Verbindung schließen\n",
    "cur.close()\n",
    "conn.close()\n",
    "\n"
   ],
   "metadata": {
    "collapsed": false
   },
   "id": "e7cdc750000f9062"
  },
  {
   "cell_type": "code",
   "execution_count": null,
   "outputs": [],
   "source": [],
   "metadata": {
    "collapsed": false
   },
   "id": "6f5ee897693bcd60"
  }
 ],
 "metadata": {
  "kernelspec": {
   "display_name": "Python 3",
   "language": "python",
   "name": "python3"
  },
  "language_info": {
   "codemirror_mode": {
    "name": "ipython",
    "version": 2
   },
   "file_extension": ".py",
   "mimetype": "text/x-python",
   "name": "python",
   "nbconvert_exporter": "python",
   "pygments_lexer": "ipython2",
   "version": "2.7.6"
  }
 },
 "nbformat": 4,
 "nbformat_minor": 5
}
