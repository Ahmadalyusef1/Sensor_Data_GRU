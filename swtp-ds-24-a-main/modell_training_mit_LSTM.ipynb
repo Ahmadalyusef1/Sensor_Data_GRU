{
 "cells": [
  {
   "cell_type": "code",
   "source": [
    "#!pip install scikit-learn\n",
    "#!pip install tensorflow\n",
    "\n"
   ],
   "metadata": {
    "collapsed": false,
    "ExecuteTime": {
     "end_time": "2024-06-24T17:35:57.359269Z",
     "start_time": "2024-06-24T17:35:57.349066Z"
    }
   },
   "id": "77462b8d1d406b22",
   "outputs": [],
   "execution_count": 32
  },
  {
   "cell_type": "code",
   "id": "initial_id",
   "metadata": {
    "collapsed": true,
    "ExecuteTime": {
     "end_time": "2024-06-24T17:35:57.375091Z",
     "start_time": "2024-06-24T17:35:57.362284Z"
    }
   },
   "source": [
    "import pandas as pd\n",
    "from sklearn.model_selection import train_test_split\n",
    "from sklearn.preprocessing import StandardScaler\n",
    "from tensorflow.keras.models import Sequential\n",
    "from tensorflow.keras.layers import Dense, LSTM, Conv1D, MaxPooling1D, Flatten\n",
    "\n",
    "\n"
   ],
   "outputs": [],
   "execution_count": 33
  },
  {
   "cell_type": "code",
   "source": [
    "combined_data= pd.read_csv('data/combined_df_with_wurfnummer.csv')\n"
   ],
   "metadata": {
    "collapsed": false,
    "ExecuteTime": {
     "end_time": "2024-06-24T17:35:58.045638Z",
     "start_time": "2024-06-24T17:35:57.376096Z"
    }
   },
   "id": "9b6b86356677a986",
   "outputs": [],
   "execution_count": 34
  },
  {
   "cell_type": "code",
   "source": [
    "filtered_data = combined_data.drop(columns=['_id', 'n', 'counter', 'timestamp'])\n",
    "filtered_data = filtered_data[filtered_data['label'] != 2]\n",
    "filtered_data"
   ],
   "metadata": {
    "collapsed": false,
    "ExecuteTime": {
     "end_time": "2024-06-24T17:35:58.220922Z",
     "start_time": "2024-06-24T17:35:58.069381Z"
    }
   },
   "id": "ac8142a22c27e35c",
   "outputs": [
    {
     "data": {
      "text/plain": [
       "             ax        ay        az          gx         gy         gz  label  \\\n",
       "0     -0.529297 -0.585693  1.212646   83.122139  59.503819  26.992367      0   \n",
       "1     -0.616211 -0.611572  1.066650   87.221375  53.068703  45.687023      0   \n",
       "2     -0.665039 -0.663330  0.896973   96.763359  48.358780  61.442749      0   \n",
       "3     -0.643799 -0.742676  0.838623  111.404579  38.091602  67.748093      0   \n",
       "4     -0.565918 -0.812256  0.837646  124.549622  21.595419  66.770996      0   \n",
       "...         ...       ...       ...         ...        ...        ...    ...   \n",
       "72262 -0.852051  0.165771 -0.548096  -33.427483 -17.564886  33.633587      1   \n",
       "72263 -0.685791  0.134766 -0.592041  -29.908398 -11.519084  31.030535      1   \n",
       "72264 -0.902588  0.282959 -0.657715  -27.984734  -6.893130  27.465649      1   \n",
       "72265 -0.744385  0.238770 -0.512695  -23.083969  -1.641221  22.442749      1   \n",
       "72266 -0.674316  0.281006 -0.578857  -15.709924   1.480916  14.358779      1   \n",
       "\n",
       "       wurf_nummer  \n",
       "0                1  \n",
       "1                1  \n",
       "2                1  \n",
       "3                1  \n",
       "4                1  \n",
       "...            ...  \n",
       "72262           47  \n",
       "72263           47  \n",
       "72264           47  \n",
       "72265           47  \n",
       "72266           47  \n",
       "\n",
       "[49121 rows x 8 columns]"
      ],
      "text/html": [
       "<div>\n",
       "<style scoped>\n",
       "    .dataframe tbody tr th:only-of-type {\n",
       "        vertical-align: middle;\n",
       "    }\n",
       "\n",
       "    .dataframe tbody tr th {\n",
       "        vertical-align: top;\n",
       "    }\n",
       "\n",
       "    .dataframe thead th {\n",
       "        text-align: right;\n",
       "    }\n",
       "</style>\n",
       "<table border=\"1\" class=\"dataframe\">\n",
       "  <thead>\n",
       "    <tr style=\"text-align: right;\">\n",
       "      <th></th>\n",
       "      <th>ax</th>\n",
       "      <th>ay</th>\n",
       "      <th>az</th>\n",
       "      <th>gx</th>\n",
       "      <th>gy</th>\n",
       "      <th>gz</th>\n",
       "      <th>label</th>\n",
       "      <th>wurf_nummer</th>\n",
       "    </tr>\n",
       "  </thead>\n",
       "  <tbody>\n",
       "    <tr>\n",
       "      <th>0</th>\n",
       "      <td>-0.529297</td>\n",
       "      <td>-0.585693</td>\n",
       "      <td>1.212646</td>\n",
       "      <td>83.122139</td>\n",
       "      <td>59.503819</td>\n",
       "      <td>26.992367</td>\n",
       "      <td>0</td>\n",
       "      <td>1</td>\n",
       "    </tr>\n",
       "    <tr>\n",
       "      <th>1</th>\n",
       "      <td>-0.616211</td>\n",
       "      <td>-0.611572</td>\n",
       "      <td>1.066650</td>\n",
       "      <td>87.221375</td>\n",
       "      <td>53.068703</td>\n",
       "      <td>45.687023</td>\n",
       "      <td>0</td>\n",
       "      <td>1</td>\n",
       "    </tr>\n",
       "    <tr>\n",
       "      <th>2</th>\n",
       "      <td>-0.665039</td>\n",
       "      <td>-0.663330</td>\n",
       "      <td>0.896973</td>\n",
       "      <td>96.763359</td>\n",
       "      <td>48.358780</td>\n",
       "      <td>61.442749</td>\n",
       "      <td>0</td>\n",
       "      <td>1</td>\n",
       "    </tr>\n",
       "    <tr>\n",
       "      <th>3</th>\n",
       "      <td>-0.643799</td>\n",
       "      <td>-0.742676</td>\n",
       "      <td>0.838623</td>\n",
       "      <td>111.404579</td>\n",
       "      <td>38.091602</td>\n",
       "      <td>67.748093</td>\n",
       "      <td>0</td>\n",
       "      <td>1</td>\n",
       "    </tr>\n",
       "    <tr>\n",
       "      <th>4</th>\n",
       "      <td>-0.565918</td>\n",
       "      <td>-0.812256</td>\n",
       "      <td>0.837646</td>\n",
       "      <td>124.549622</td>\n",
       "      <td>21.595419</td>\n",
       "      <td>66.770996</td>\n",
       "      <td>0</td>\n",
       "      <td>1</td>\n",
       "    </tr>\n",
       "    <tr>\n",
       "      <th>...</th>\n",
       "      <td>...</td>\n",
       "      <td>...</td>\n",
       "      <td>...</td>\n",
       "      <td>...</td>\n",
       "      <td>...</td>\n",
       "      <td>...</td>\n",
       "      <td>...</td>\n",
       "      <td>...</td>\n",
       "    </tr>\n",
       "    <tr>\n",
       "      <th>72262</th>\n",
       "      <td>-0.852051</td>\n",
       "      <td>0.165771</td>\n",
       "      <td>-0.548096</td>\n",
       "      <td>-33.427483</td>\n",
       "      <td>-17.564886</td>\n",
       "      <td>33.633587</td>\n",
       "      <td>1</td>\n",
       "      <td>47</td>\n",
       "    </tr>\n",
       "    <tr>\n",
       "      <th>72263</th>\n",
       "      <td>-0.685791</td>\n",
       "      <td>0.134766</td>\n",
       "      <td>-0.592041</td>\n",
       "      <td>-29.908398</td>\n",
       "      <td>-11.519084</td>\n",
       "      <td>31.030535</td>\n",
       "      <td>1</td>\n",
       "      <td>47</td>\n",
       "    </tr>\n",
       "    <tr>\n",
       "      <th>72264</th>\n",
       "      <td>-0.902588</td>\n",
       "      <td>0.282959</td>\n",
       "      <td>-0.657715</td>\n",
       "      <td>-27.984734</td>\n",
       "      <td>-6.893130</td>\n",
       "      <td>27.465649</td>\n",
       "      <td>1</td>\n",
       "      <td>47</td>\n",
       "    </tr>\n",
       "    <tr>\n",
       "      <th>72265</th>\n",
       "      <td>-0.744385</td>\n",
       "      <td>0.238770</td>\n",
       "      <td>-0.512695</td>\n",
       "      <td>-23.083969</td>\n",
       "      <td>-1.641221</td>\n",
       "      <td>22.442749</td>\n",
       "      <td>1</td>\n",
       "      <td>47</td>\n",
       "    </tr>\n",
       "    <tr>\n",
       "      <th>72266</th>\n",
       "      <td>-0.674316</td>\n",
       "      <td>0.281006</td>\n",
       "      <td>-0.578857</td>\n",
       "      <td>-15.709924</td>\n",
       "      <td>1.480916</td>\n",
       "      <td>14.358779</td>\n",
       "      <td>1</td>\n",
       "      <td>47</td>\n",
       "    </tr>\n",
       "  </tbody>\n",
       "</table>\n",
       "<p>49121 rows × 8 columns</p>\n",
       "</div>"
      ]
     },
     "execution_count": 35,
     "metadata": {},
     "output_type": "execute_result"
    }
   ],
   "execution_count": 35
  },
  {
   "cell_type": "code",
   "source": [
    "unique_wurfs = filtered_data['wurf_nummer'].unique()\n",
    "unique_wurfs"
   ],
   "metadata": {
    "collapsed": false,
    "ExecuteTime": {
     "end_time": "2024-06-24T17:35:58.304650Z",
     "start_time": "2024-06-24T17:35:58.240614Z"
    }
   },
   "id": "7a115f0ad77c4aca",
   "outputs": [
    {
     "data": {
      "text/plain": [
       "array([ 1,  2,  3,  4,  5,  6,  7,  8,  9, 10, 11, 12, 13, 14, 15, 16, 17,\n",
       "       18, 19, 20, 21, 22, 23, 24, 25, 26, 27, 28, 29, 30, 31, 32, 33, 34,\n",
       "       35, 36, 37, 38, 39, 40, 41, 42, 43, 44, 45, 46, 47], dtype=int64)"
      ]
     },
     "execution_count": 36,
     "metadata": {},
     "output_type": "execute_result"
    }
   ],
   "execution_count": 36
  },
  {
   "cell_type": "code",
   "source": [
    "train_wurfs, test_wurfs = train_test_split(unique_wurfs, test_size=0.2, random_state=42)\n",
    "\n",
    "test_wurfs"
   ],
   "metadata": {
    "collapsed": false,
    "ExecuteTime": {
     "end_time": "2024-06-24T17:35:58.391813Z",
     "start_time": "2024-06-24T17:35:58.326442Z"
    }
   },
   "id": "7987e92f2a07c2f6",
   "outputs": [
    {
     "data": {
      "text/plain": [
       "array([28, 40, 27, 44, 25, 37, 13, 20,  5, 26], dtype=int64)"
      ]
     },
     "execution_count": 37,
     "metadata": {},
     "output_type": "execute_result"
    }
   ],
   "execution_count": 37
  },
  {
   "cell_type": "code",
   "source": [
    "train_data = filtered_data[filtered_data['wurf_nummer'].isin(train_wurfs)]\n",
    "test_data = filtered_data[filtered_data['wurf_nummer'].isin(test_wurfs)]\n"
   ],
   "metadata": {
    "collapsed": false,
    "ExecuteTime": {
     "end_time": "2024-06-24T17:35:58.407069Z",
     "start_time": "2024-06-24T17:35:58.392832Z"
    }
   },
   "id": "79e0f700342b4995",
   "outputs": [],
   "execution_count": 38
  },
  {
   "cell_type": "code",
   "source": [
    "test_data"
   ],
   "metadata": {
    "collapsed": false,
    "ExecuteTime": {
     "end_time": "2024-06-24T17:35:58.423243Z",
     "start_time": "2024-06-24T17:35:58.410072Z"
    }
   },
   "id": "3939d2e006e61355",
   "outputs": [
    {
     "data": {
      "text/plain": [
       "             ax        ay        az          gx         gy          gz  label  \\\n",
       "7201  -0.666992  1.650879 -1.700195  250.129776 -52.877861 -248.183212      0   \n",
       "7202   0.722900  0.993896 -0.653320  250.129776 -56.259541 -248.183212      0   \n",
       "7203   0.042236 -0.162354 -0.925049  250.129776 -31.916031 -248.183212      0   \n",
       "7204   0.683594 -0.357422 -0.303711  250.129776 -41.900764 -248.183212      0   \n",
       "7205   0.423096  0.139160 -0.214111  250.129776 -46.603054 -248.183212      0   \n",
       "...         ...       ...       ...         ...        ...         ...    ...   \n",
       "66361 -0.919678  1.200195 -0.380127  -33.198475  53.938931  110.671753      1   \n",
       "66362 -0.928467  1.170898 -0.392090  -26.312977  59.916031  115.183205      1   \n",
       "66363 -0.962891  1.139404 -0.392822  -21.015266  63.534351  118.374046      1   \n",
       "66364 -1.022217  1.171875 -0.337158  -18.366413  65.946564  123.977097      1   \n",
       "66365 -1.091553  1.304443 -0.295410  -14.877863  65.442749  131.091599      1   \n",
       "\n",
       "       wurf_nummer  \n",
       "7201             5  \n",
       "7202             5  \n",
       "7203             5  \n",
       "7204             5  \n",
       "7205             5  \n",
       "...            ...  \n",
       "66361           44  \n",
       "66362           44  \n",
       "66363           44  \n",
       "66364           44  \n",
       "66365           44  \n",
       "\n",
       "[8690 rows x 8 columns]"
      ],
      "text/html": [
       "<div>\n",
       "<style scoped>\n",
       "    .dataframe tbody tr th:only-of-type {\n",
       "        vertical-align: middle;\n",
       "    }\n",
       "\n",
       "    .dataframe tbody tr th {\n",
       "        vertical-align: top;\n",
       "    }\n",
       "\n",
       "    .dataframe thead th {\n",
       "        text-align: right;\n",
       "    }\n",
       "</style>\n",
       "<table border=\"1\" class=\"dataframe\">\n",
       "  <thead>\n",
       "    <tr style=\"text-align: right;\">\n",
       "      <th></th>\n",
       "      <th>ax</th>\n",
       "      <th>ay</th>\n",
       "      <th>az</th>\n",
       "      <th>gx</th>\n",
       "      <th>gy</th>\n",
       "      <th>gz</th>\n",
       "      <th>label</th>\n",
       "      <th>wurf_nummer</th>\n",
       "    </tr>\n",
       "  </thead>\n",
       "  <tbody>\n",
       "    <tr>\n",
       "      <th>7201</th>\n",
       "      <td>-0.666992</td>\n",
       "      <td>1.650879</td>\n",
       "      <td>-1.700195</td>\n",
       "      <td>250.129776</td>\n",
       "      <td>-52.877861</td>\n",
       "      <td>-248.183212</td>\n",
       "      <td>0</td>\n",
       "      <td>5</td>\n",
       "    </tr>\n",
       "    <tr>\n",
       "      <th>7202</th>\n",
       "      <td>0.722900</td>\n",
       "      <td>0.993896</td>\n",
       "      <td>-0.653320</td>\n",
       "      <td>250.129776</td>\n",
       "      <td>-56.259541</td>\n",
       "      <td>-248.183212</td>\n",
       "      <td>0</td>\n",
       "      <td>5</td>\n",
       "    </tr>\n",
       "    <tr>\n",
       "      <th>7203</th>\n",
       "      <td>0.042236</td>\n",
       "      <td>-0.162354</td>\n",
       "      <td>-0.925049</td>\n",
       "      <td>250.129776</td>\n",
       "      <td>-31.916031</td>\n",
       "      <td>-248.183212</td>\n",
       "      <td>0</td>\n",
       "      <td>5</td>\n",
       "    </tr>\n",
       "    <tr>\n",
       "      <th>7204</th>\n",
       "      <td>0.683594</td>\n",
       "      <td>-0.357422</td>\n",
       "      <td>-0.303711</td>\n",
       "      <td>250.129776</td>\n",
       "      <td>-41.900764</td>\n",
       "      <td>-248.183212</td>\n",
       "      <td>0</td>\n",
       "      <td>5</td>\n",
       "    </tr>\n",
       "    <tr>\n",
       "      <th>7205</th>\n",
       "      <td>0.423096</td>\n",
       "      <td>0.139160</td>\n",
       "      <td>-0.214111</td>\n",
       "      <td>250.129776</td>\n",
       "      <td>-46.603054</td>\n",
       "      <td>-248.183212</td>\n",
       "      <td>0</td>\n",
       "      <td>5</td>\n",
       "    </tr>\n",
       "    <tr>\n",
       "      <th>...</th>\n",
       "      <td>...</td>\n",
       "      <td>...</td>\n",
       "      <td>...</td>\n",
       "      <td>...</td>\n",
       "      <td>...</td>\n",
       "      <td>...</td>\n",
       "      <td>...</td>\n",
       "      <td>...</td>\n",
       "    </tr>\n",
       "    <tr>\n",
       "      <th>66361</th>\n",
       "      <td>-0.919678</td>\n",
       "      <td>1.200195</td>\n",
       "      <td>-0.380127</td>\n",
       "      <td>-33.198475</td>\n",
       "      <td>53.938931</td>\n",
       "      <td>110.671753</td>\n",
       "      <td>1</td>\n",
       "      <td>44</td>\n",
       "    </tr>\n",
       "    <tr>\n",
       "      <th>66362</th>\n",
       "      <td>-0.928467</td>\n",
       "      <td>1.170898</td>\n",
       "      <td>-0.392090</td>\n",
       "      <td>-26.312977</td>\n",
       "      <td>59.916031</td>\n",
       "      <td>115.183205</td>\n",
       "      <td>1</td>\n",
       "      <td>44</td>\n",
       "    </tr>\n",
       "    <tr>\n",
       "      <th>66363</th>\n",
       "      <td>-0.962891</td>\n",
       "      <td>1.139404</td>\n",
       "      <td>-0.392822</td>\n",
       "      <td>-21.015266</td>\n",
       "      <td>63.534351</td>\n",
       "      <td>118.374046</td>\n",
       "      <td>1</td>\n",
       "      <td>44</td>\n",
       "    </tr>\n",
       "    <tr>\n",
       "      <th>66364</th>\n",
       "      <td>-1.022217</td>\n",
       "      <td>1.171875</td>\n",
       "      <td>-0.337158</td>\n",
       "      <td>-18.366413</td>\n",
       "      <td>65.946564</td>\n",
       "      <td>123.977097</td>\n",
       "      <td>1</td>\n",
       "      <td>44</td>\n",
       "    </tr>\n",
       "    <tr>\n",
       "      <th>66365</th>\n",
       "      <td>-1.091553</td>\n",
       "      <td>1.304443</td>\n",
       "      <td>-0.295410</td>\n",
       "      <td>-14.877863</td>\n",
       "      <td>65.442749</td>\n",
       "      <td>131.091599</td>\n",
       "      <td>1</td>\n",
       "      <td>44</td>\n",
       "    </tr>\n",
       "  </tbody>\n",
       "</table>\n",
       "<p>8690 rows × 8 columns</p>\n",
       "</div>"
      ]
     },
     "execution_count": 39,
     "metadata": {},
     "output_type": "execute_result"
    }
   ],
   "execution_count": 39
  },
  {
   "cell_type": "code",
   "source": [
    "train_data"
   ],
   "metadata": {
    "collapsed": false,
    "ExecuteTime": {
     "end_time": "2024-06-24T17:35:58.438992Z",
     "start_time": "2024-06-24T17:35:58.424514Z"
    }
   },
   "id": "8d0068ed7c29fc3d",
   "outputs": [
    {
     "data": {
      "text/plain": [
       "             ax        ay        az          gx         gy         gz  label  \\\n",
       "0     -0.529297 -0.585693  1.212646   83.122139  59.503819  26.992367      0   \n",
       "1     -0.616211 -0.611572  1.066650   87.221375  53.068703  45.687023      0   \n",
       "2     -0.665039 -0.663330  0.896973   96.763359  48.358780  61.442749      0   \n",
       "3     -0.643799 -0.742676  0.838623  111.404579  38.091602  67.748093      0   \n",
       "4     -0.565918 -0.812256  0.837646  124.549622  21.595419  66.770996      0   \n",
       "...         ...       ...       ...         ...        ...        ...    ...   \n",
       "72262 -0.852051  0.165771 -0.548096  -33.427483 -17.564886  33.633587      1   \n",
       "72263 -0.685791  0.134766 -0.592041  -29.908398 -11.519084  31.030535      1   \n",
       "72264 -0.902588  0.282959 -0.657715  -27.984734  -6.893130  27.465649      1   \n",
       "72265 -0.744385  0.238770 -0.512695  -23.083969  -1.641221  22.442749      1   \n",
       "72266 -0.674316  0.281006 -0.578857  -15.709924   1.480916  14.358779      1   \n",
       "\n",
       "       wurf_nummer  \n",
       "0                1  \n",
       "1                1  \n",
       "2                1  \n",
       "3                1  \n",
       "4                1  \n",
       "...            ...  \n",
       "72262           47  \n",
       "72263           47  \n",
       "72264           47  \n",
       "72265           47  \n",
       "72266           47  \n",
       "\n",
       "[40431 rows x 8 columns]"
      ],
      "text/html": [
       "<div>\n",
       "<style scoped>\n",
       "    .dataframe tbody tr th:only-of-type {\n",
       "        vertical-align: middle;\n",
       "    }\n",
       "\n",
       "    .dataframe tbody tr th {\n",
       "        vertical-align: top;\n",
       "    }\n",
       "\n",
       "    .dataframe thead th {\n",
       "        text-align: right;\n",
       "    }\n",
       "</style>\n",
       "<table border=\"1\" class=\"dataframe\">\n",
       "  <thead>\n",
       "    <tr style=\"text-align: right;\">\n",
       "      <th></th>\n",
       "      <th>ax</th>\n",
       "      <th>ay</th>\n",
       "      <th>az</th>\n",
       "      <th>gx</th>\n",
       "      <th>gy</th>\n",
       "      <th>gz</th>\n",
       "      <th>label</th>\n",
       "      <th>wurf_nummer</th>\n",
       "    </tr>\n",
       "  </thead>\n",
       "  <tbody>\n",
       "    <tr>\n",
       "      <th>0</th>\n",
       "      <td>-0.529297</td>\n",
       "      <td>-0.585693</td>\n",
       "      <td>1.212646</td>\n",
       "      <td>83.122139</td>\n",
       "      <td>59.503819</td>\n",
       "      <td>26.992367</td>\n",
       "      <td>0</td>\n",
       "      <td>1</td>\n",
       "    </tr>\n",
       "    <tr>\n",
       "      <th>1</th>\n",
       "      <td>-0.616211</td>\n",
       "      <td>-0.611572</td>\n",
       "      <td>1.066650</td>\n",
       "      <td>87.221375</td>\n",
       "      <td>53.068703</td>\n",
       "      <td>45.687023</td>\n",
       "      <td>0</td>\n",
       "      <td>1</td>\n",
       "    </tr>\n",
       "    <tr>\n",
       "      <th>2</th>\n",
       "      <td>-0.665039</td>\n",
       "      <td>-0.663330</td>\n",
       "      <td>0.896973</td>\n",
       "      <td>96.763359</td>\n",
       "      <td>48.358780</td>\n",
       "      <td>61.442749</td>\n",
       "      <td>0</td>\n",
       "      <td>1</td>\n",
       "    </tr>\n",
       "    <tr>\n",
       "      <th>3</th>\n",
       "      <td>-0.643799</td>\n",
       "      <td>-0.742676</td>\n",
       "      <td>0.838623</td>\n",
       "      <td>111.404579</td>\n",
       "      <td>38.091602</td>\n",
       "      <td>67.748093</td>\n",
       "      <td>0</td>\n",
       "      <td>1</td>\n",
       "    </tr>\n",
       "    <tr>\n",
       "      <th>4</th>\n",
       "      <td>-0.565918</td>\n",
       "      <td>-0.812256</td>\n",
       "      <td>0.837646</td>\n",
       "      <td>124.549622</td>\n",
       "      <td>21.595419</td>\n",
       "      <td>66.770996</td>\n",
       "      <td>0</td>\n",
       "      <td>1</td>\n",
       "    </tr>\n",
       "    <tr>\n",
       "      <th>...</th>\n",
       "      <td>...</td>\n",
       "      <td>...</td>\n",
       "      <td>...</td>\n",
       "      <td>...</td>\n",
       "      <td>...</td>\n",
       "      <td>...</td>\n",
       "      <td>...</td>\n",
       "      <td>...</td>\n",
       "    </tr>\n",
       "    <tr>\n",
       "      <th>72262</th>\n",
       "      <td>-0.852051</td>\n",
       "      <td>0.165771</td>\n",
       "      <td>-0.548096</td>\n",
       "      <td>-33.427483</td>\n",
       "      <td>-17.564886</td>\n",
       "      <td>33.633587</td>\n",
       "      <td>1</td>\n",
       "      <td>47</td>\n",
       "    </tr>\n",
       "    <tr>\n",
       "      <th>72263</th>\n",
       "      <td>-0.685791</td>\n",
       "      <td>0.134766</td>\n",
       "      <td>-0.592041</td>\n",
       "      <td>-29.908398</td>\n",
       "      <td>-11.519084</td>\n",
       "      <td>31.030535</td>\n",
       "      <td>1</td>\n",
       "      <td>47</td>\n",
       "    </tr>\n",
       "    <tr>\n",
       "      <th>72264</th>\n",
       "      <td>-0.902588</td>\n",
       "      <td>0.282959</td>\n",
       "      <td>-0.657715</td>\n",
       "      <td>-27.984734</td>\n",
       "      <td>-6.893130</td>\n",
       "      <td>27.465649</td>\n",
       "      <td>1</td>\n",
       "      <td>47</td>\n",
       "    </tr>\n",
       "    <tr>\n",
       "      <th>72265</th>\n",
       "      <td>-0.744385</td>\n",
       "      <td>0.238770</td>\n",
       "      <td>-0.512695</td>\n",
       "      <td>-23.083969</td>\n",
       "      <td>-1.641221</td>\n",
       "      <td>22.442749</td>\n",
       "      <td>1</td>\n",
       "      <td>47</td>\n",
       "    </tr>\n",
       "    <tr>\n",
       "      <th>72266</th>\n",
       "      <td>-0.674316</td>\n",
       "      <td>0.281006</td>\n",
       "      <td>-0.578857</td>\n",
       "      <td>-15.709924</td>\n",
       "      <td>1.480916</td>\n",
       "      <td>14.358779</td>\n",
       "      <td>1</td>\n",
       "      <td>47</td>\n",
       "    </tr>\n",
       "  </tbody>\n",
       "</table>\n",
       "<p>40431 rows × 8 columns</p>\n",
       "</div>"
      ]
     },
     "execution_count": 40,
     "metadata": {},
     "output_type": "execute_result"
    }
   ],
   "execution_count": 40
  },
  {
   "cell_type": "code",
   "source": [
    "X_train = train_data[['ax', 'ay', 'az', 'gx', 'gy', 'gz']]\n",
    "y_train = train_data['label']\n",
    "X_test = test_data[['ax', 'ay', 'az', 'gx', 'gy', 'gz']]\n",
    "y_test = test_data['label']"
   ],
   "metadata": {
    "collapsed": false,
    "ExecuteTime": {
     "end_time": "2024-06-24T17:35:58.454230Z",
     "start_time": "2024-06-24T17:35:58.439997Z"
    }
   },
   "id": "440f9e5d3d5f6bb8",
   "outputs": [],
   "execution_count": 41
  },
  {
   "cell_type": "code",
   "source": [
    "scaler = StandardScaler()\n",
    "X_train_normalized = scaler.fit_transform(X_train)\n",
    "X_test_normalized = scaler.transform(X_test)"
   ],
   "metadata": {
    "collapsed": false,
    "ExecuteTime": {
     "end_time": "2024-06-24T17:35:58.484697Z",
     "start_time": "2024-06-24T17:35:58.471345Z"
    }
   },
   "id": "1b6107be222224d7",
   "outputs": [],
   "execution_count": 42
  },
  {
   "cell_type": "code",
   "source": [
    "X_train_normalized.shape, X_test_normalized.shape, y_train.shape, y_test.shape\n"
   ],
   "metadata": {
    "collapsed": false,
    "ExecuteTime": {
     "end_time": "2024-06-24T17:35:59.056907Z",
     "start_time": "2024-06-24T17:35:59.039920Z"
    }
   },
   "id": "1424abb173cb7591",
   "outputs": [
    {
     "data": {
      "text/plain": [
       "((40431, 6), (8690, 6), (40431,), (8690,))"
      ]
     },
     "execution_count": 43,
     "metadata": {},
     "output_type": "execute_result"
    }
   ],
   "execution_count": 43
  },
  {
   "cell_type": "code",
   "source": [
    "model = Sequential()"
   ],
   "metadata": {
    "collapsed": false,
    "ExecuteTime": {
     "end_time": "2024-06-24T17:36:00.085889Z",
     "start_time": "2024-06-24T17:36:00.072573Z"
    }
   },
   "id": "ab0f81c132554f30",
   "outputs": [],
   "execution_count": 44
  },
  {
   "cell_type": "code",
   "source": [
    "model.add(Conv1D(filters=64, kernel_size=3, activation='relu', input_shape=(X_train_normalized.shape[1], 1)))\n",
    "model.add(MaxPooling1D(pool_size=2))\n",
    "\n",
    "model.add(LSTM(100, activation='relu'))\n",
    "\n",
    "model.add(Dense(1, activation='sigmoid'))\n",
    "\n",
    "model.compile(optimizer='adam', loss='binary_crossentropy', metrics=['accuracy'])\n",
    "\n",
    "history = model.fit(X_train_normalized, y_train, epochs=10, batch_size=128, validation_data=(X_test_normalized, y_test))\n",
    "\n",
    "model.evaluate(X_test_normalized, y_test)\n"
   ],
   "metadata": {
    "collapsed": false,
    "ExecuteTime": {
     "end_time": "2024-06-24T17:37:05.372044Z",
     "start_time": "2024-06-24T17:36:00.195855Z"
    }
   },
   "id": "31ca5a898f4805f1",
   "outputs": [
    {
     "name": "stderr",
     "output_type": "stream",
     "text": [
      "C:\\Users\\49176\\PycharmProjects\\swtp\\venv\\lib\\site-packages\\keras\\src\\layers\\convolutional\\base_conv.py:107: UserWarning: Do not pass an `input_shape`/`input_dim` argument to a layer. When using Sequential models, prefer using an `Input(shape)` object as the first layer in the model instead.\n",
      "  super().__init__(activity_regularizer=activity_regularizer, **kwargs)\n"
     ]
    },
    {
     "name": "stdout",
     "output_type": "stream",
     "text": [
      "Epoch 1/10\n",
      "\u001B[1m316/316\u001B[0m \u001B[32m━━━━━━━━━━━━━━━━━━━━\u001B[0m\u001B[37m\u001B[0m \u001B[1m11s\u001B[0m 17ms/step - accuracy: 0.6807 - loss: 0.6273 - val_accuracy: 0.4998 - val_loss: 0.7067\n",
      "Epoch 2/10\n",
      "\u001B[1m316/316\u001B[0m \u001B[32m━━━━━━━━━━━━━━━━━━━━\u001B[0m\u001B[37m\u001B[0m \u001B[1m6s\u001B[0m 20ms/step - accuracy: 0.7194 - loss: 0.5500 - val_accuracy: 0.6203 - val_loss: 0.6271\n",
      "Epoch 3/10\n",
      "\u001B[1m316/316\u001B[0m \u001B[32m━━━━━━━━━━━━━━━━━━━━\u001B[0m\u001B[37m\u001B[0m \u001B[1m5s\u001B[0m 17ms/step - accuracy: 0.7738 - loss: 0.4784 - val_accuracy: 0.7130 - val_loss: 0.5470\n",
      "Epoch 4/10\n",
      "\u001B[1m316/316\u001B[0m \u001B[32m━━━━━━━━━━━━━━━━━━━━\u001B[0m\u001B[37m\u001B[0m \u001B[1m6s\u001B[0m 18ms/step - accuracy: 0.7997 - loss: 0.4308 - val_accuracy: 0.6991 - val_loss: 0.5831\n",
      "Epoch 5/10\n",
      "\u001B[1m316/316\u001B[0m \u001B[32m━━━━━━━━━━━━━━━━━━━━\u001B[0m\u001B[37m\u001B[0m \u001B[1m5s\u001B[0m 16ms/step - accuracy: 0.8044 - loss: 0.4145 - val_accuracy: 0.7217 - val_loss: 0.5375\n",
      "Epoch 6/10\n",
      "\u001B[1m316/316\u001B[0m \u001B[32m━━━━━━━━━━━━━━━━━━━━\u001B[0m\u001B[37m\u001B[0m \u001B[1m6s\u001B[0m 18ms/step - accuracy: 0.8146 - loss: 0.4004 - val_accuracy: 0.7207 - val_loss: 0.5723\n",
      "Epoch 7/10\n",
      "\u001B[1m316/316\u001B[0m \u001B[32m━━━━━━━━━━━━━━━━━━━━\u001B[0m\u001B[37m\u001B[0m \u001B[1m6s\u001B[0m 18ms/step - accuracy: 0.8255 - loss: 0.3789 - val_accuracy: 0.7253 - val_loss: 0.5593\n",
      "Epoch 8/10\n",
      "\u001B[1m316/316\u001B[0m \u001B[32m━━━━━━━━━━━━━━━━━━━━\u001B[0m\u001B[37m\u001B[0m \u001B[1m6s\u001B[0m 21ms/step - accuracy: 0.8338 - loss: 0.3655 - val_accuracy: 0.7208 - val_loss: 0.5779\n",
      "Epoch 9/10\n",
      "\u001B[1m316/316\u001B[0m \u001B[32m━━━━━━━━━━━━━━━━━━━━\u001B[0m\u001B[37m\u001B[0m \u001B[1m6s\u001B[0m 18ms/step - accuracy: 0.8383 - loss: 0.3605 - val_accuracy: 0.7291 - val_loss: 0.5684\n",
      "Epoch 10/10\n",
      "\u001B[1m316/316\u001B[0m \u001B[32m━━━━━━━━━━━━━━━━━━━━\u001B[0m\u001B[37m\u001B[0m \u001B[1m5s\u001B[0m 15ms/step - accuracy: 0.8480 - loss: 0.3464 - val_accuracy: 0.7392 - val_loss: 0.5638\n",
      "\u001B[1m272/272\u001B[0m \u001B[32m━━━━━━━━━━━━━━━━━━━━\u001B[0m\u001B[37m\u001B[0m \u001B[1m3s\u001B[0m 10ms/step - accuracy: 0.8290 - loss: 0.4371\n"
     ]
    },
    {
     "data": {
      "text/plain": [
       "[0.5637502670288086, 0.7392405271530151]"
      ]
     },
     "execution_count": 45,
     "metadata": {},
     "output_type": "execute_result"
    }
   ],
   "execution_count": 45
  },
  {
   "cell_type": "code",
   "source": [
    "#save model\n",
    "model.save('model.keras')"
   ],
   "metadata": {
    "collapsed": false,
    "ExecuteTime": {
     "end_time": "2024-06-24T17:37:05.564632Z",
     "start_time": "2024-06-24T17:37:05.374681Z"
    }
   },
   "id": "78acedf5cb3a39d3",
   "outputs": [],
   "execution_count": 46
  },
  {
   "cell_type": "code",
   "source": [],
   "metadata": {
    "collapsed": false,
    "ExecuteTime": {
     "end_time": "2024-06-24T17:37:05.611475Z",
     "start_time": "2024-06-24T17:37:05.588436Z"
    }
   },
   "id": "24f4f19cf2fc4e5d",
   "outputs": [],
   "execution_count": 46
  }
 ],
 "metadata": {
  "kernelspec": {
   "display_name": "Python 3",
   "language": "python",
   "name": "python3"
  },
  "language_info": {
   "codemirror_mode": {
    "name": "ipython",
    "version": 2
   },
   "file_extension": ".py",
   "mimetype": "text/x-python",
   "name": "python",
   "nbconvert_exporter": "python",
   "pygments_lexer": "ipython2",
   "version": "2.7.6"
  }
 },
 "nbformat": 4,
 "nbformat_minor": 5
}
